{
 "cells": [
  {
   "cell_type": "markdown",
   "id": "b6181a16",
   "metadata": {},
   "source": [
    "# Configuración previa\n",
    "\n",
    "Instalación de `Pandas` por si alguien no lo tiene:\n",
    "\n",
    "```bash\n",
    "pip install pandas\n",
    "```\n",
    "\n",
    "También se puede instalar desde el propio `Jupyter Notebook` con una exclamación delante:\n",
    "\n",
    "```bash\n",
    "!pip install pandas\n",
    "```\n",
    "\n",
    "Al cabo de un rato aparecerá el resultado:"
   ]
  },
  {
   "cell_type": "code",
   "execution_count": 1,
   "id": "a5143f90",
   "metadata": {},
   "outputs": [
    {
     "name": "stdout",
     "output_type": "stream",
     "text": [
      "Collecting pandas\n",
      "  Downloading pandas-2.3.2-cp313-cp313-win_amd64.whl.metadata (19 kB)\n",
      "Collecting numpy>=1.26.0 (from pandas)\n",
      "  Downloading numpy-2.3.2-cp313-cp313-win_amd64.whl.metadata (60 kB)\n",
      "Requirement already satisfied: python-dateutil>=2.8.2 in c:\\users\\redes4\\appdata\\roaming\\python\\python313\\site-packages (from pandas) (2.9.0.post0)\n",
      "Collecting pytz>=2020.1 (from pandas)\n",
      "  Downloading pytz-2025.2-py2.py3-none-any.whl.metadata (22 kB)\n",
      "Collecting tzdata>=2022.7 (from pandas)\n",
      "  Downloading tzdata-2025.2-py2.py3-none-any.whl.metadata (1.4 kB)\n",
      "Requirement already satisfied: six>=1.5 in c:\\users\\redes4\\appdata\\roaming\\python\\python313\\site-packages (from python-dateutil>=2.8.2->pandas) (1.17.0)\n",
      "Downloading pandas-2.3.2-cp313-cp313-win_amd64.whl (11.0 MB)\n",
      "   ---------------------------------------- 0.0/11.0 MB ? eta -:--:--\n",
      "    --------------------------------------- 0.3/11.0 MB ? eta -:--:--\n",
      "   ------- -------------------------------- 2.1/11.0 MB 6.8 MB/s eta 0:00:02\n",
      "   ------------- -------------------------- 3.7/11.0 MB 7.0 MB/s eta 0:00:02\n",
      "   ------------- -------------------------- 3.7/11.0 MB 7.0 MB/s eta 0:00:02\n",
      "   ---------------------- ----------------- 6.3/11.0 MB 7.2 MB/s eta 0:00:01\n",
      "   -------------------------------- ------- 8.9/11.0 MB 7.8 MB/s eta 0:00:01\n",
      "   ------------------------------------ --- 10.0/11.0 MB 7.3 MB/s eta 0:00:01\n",
      "   ---------------------------------------- 11.0/11.0 MB 7.6 MB/s eta 0:00:00\n",
      "Downloading numpy-2.3.2-cp313-cp313-win_amd64.whl (12.8 MB)\n",
      "   ---------------------------------------- 0.0/12.8 MB ? eta -:--:--\n",
      "   --- ------------------------------------ 1.0/12.8 MB 5.1 MB/s eta 0:00:03\n",
      "   ----- ---------------------------------- 1.8/12.8 MB 5.1 MB/s eta 0:00:03\n",
      "   --------- ------------------------------ 2.9/12.8 MB 4.8 MB/s eta 0:00:03\n",
      "   ------------ --------------------------- 3.9/12.8 MB 4.7 MB/s eta 0:00:02\n",
      "   ------------- -------------------------- 4.5/12.8 MB 4.7 MB/s eta 0:00:02\n",
      "   ----------------- ---------------------- 5.5/12.8 MB 4.5 MB/s eta 0:00:02\n",
      "   ------------------- -------------------- 6.3/12.8 MB 4.2 MB/s eta 0:00:02\n",
      "   --------------------- ------------------ 6.8/12.8 MB 4.1 MB/s eta 0:00:02\n",
      "   ---------------------- ----------------- 7.3/12.8 MB 3.9 MB/s eta 0:00:02\n",
      "   ------------------------ --------------- 7.9/12.8 MB 3.8 MB/s eta 0:00:02\n",
      "   ------------------------- -------------- 8.1/12.8 MB 3.7 MB/s eta 0:00:02\n",
      "   --------------------------- ------------ 8.7/12.8 MB 3.6 MB/s eta 0:00:02\n",
      "   ---------------------------- ----------- 9.2/12.8 MB 3.3 MB/s eta 0:00:02\n",
      "   ----------------------------- ---------- 9.4/12.8 MB 3.2 MB/s eta 0:00:02\n",
      "   ------------------------------ --------- 9.7/12.8 MB 3.1 MB/s eta 0:00:01\n",
      "   ------------------------------- -------- 10.0/12.8 MB 3.0 MB/s eta 0:00:01\n",
      "   -------------------------------- ------- 10.5/12.8 MB 2.9 MB/s eta 0:00:01\n",
      "   --------------------------------- ------ 10.7/12.8 MB 2.8 MB/s eta 0:00:01\n",
      "   ---------------------------------- ----- 11.0/12.8 MB 2.8 MB/s eta 0:00:01\n",
      "   ------------------------------------ --- 11.5/12.8 MB 2.7 MB/s eta 0:00:01\n",
      "   ------------------------------------ --- 11.8/12.8 MB 2.7 MB/s eta 0:00:01\n",
      "   ------------------------------------- -- 12.1/12.8 MB 2.6 MB/s eta 0:00:01\n",
      "   -------------------------------------- - 12.3/12.8 MB 2.5 MB/s eta 0:00:01\n",
      "   ---------------------------------------  12.6/12.8 MB 2.5 MB/s eta 0:00:01\n",
      "   ---------------------------------------- 12.8/12.8 MB 2.4 MB/s eta 0:00:00\n",
      "Downloading pytz-2025.2-py2.py3-none-any.whl (509 kB)\n",
      "Downloading tzdata-2025.2-py2.py3-none-any.whl (347 kB)\n",
      "Installing collected packages: pytz, tzdata, numpy, pandas\n",
      "Successfully installed numpy-2.3.2 pandas-2.3.2 pytz-2025.2 tzdata-2025.2\n",
      "Note: you may need to restart the kernel to use updated packages.\n"
     ]
    },
    {
     "name": "stderr",
     "output_type": "stream",
     "text": [
      "\n",
      "[notice] A new release of pip is available: 25.0.1 -> 25.2\n",
      "[notice] To update, run: python.exe -m pip install --upgrade pip\n"
     ]
    }
   ],
   "source": [
    "pip install pandas"
   ]
  }
 ],
 "metadata": {
  "kernelspec": {
   "display_name": "Python 3",
   "language": "python",
   "name": "python3"
  },
  "language_info": {
   "codemirror_mode": {
    "name": "ipython",
    "version": 3
   },
   "file_extension": ".py",
   "mimetype": "text/x-python",
   "name": "python",
   "nbconvert_exporter": "python",
   "pygments_lexer": "ipython3",
   "version": "3.13.3"
  }
 },
 "nbformat": 4,
 "nbformat_minor": 5
}
